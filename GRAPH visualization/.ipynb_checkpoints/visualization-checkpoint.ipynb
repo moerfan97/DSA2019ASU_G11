{
 "cells": [
  {
   "cell_type": "code",
   "execution_count": 6,
   "metadata": {},
   "outputs": [],
   "source": [
    "import networkx as nx\n",
    "import matplotlib.pyplot as plt\n",
    "from operator import itemgetter\n",
    "# create graph\n",
    "g=nx.Graph()"
   ]
  },
  {
   "cell_type": "code",
   "execution_count": 2,
   "metadata": {},
   "outputs": [
    {
     "name": "stdout",
     "output_type": "stream",
     "text": [
      "4 5\n"
     ]
    }
   ],
   "source": [
    "# Taking inputs\n",
    "inputs=input().split(' ')\n",
    "number_nodes=int(inputs[0])\n",
    "number_edges=int(inputs[1])\n"
   ]
  },
  {
   "cell_type": "code",
   "execution_count": null,
   "metadata": {
    "scrolled": true
   },
   "outputs": [
    {
     "name": "stdout",
     "output_type": "stream",
     "text": [
      "source:0\n",
      "destination:1\n",
      "weight:5\n",
      "source:0\n",
      "destination:5\n",
      "weight:8\n"
     ]
    }
   ],
   "source": [
    "# Taking edges\n",
    "edges=[]\n",
    "\n",
    "while len(edges)<number_edges :\n",
    "    node1=int(input(\"source:\"))\n",
    "    node2=int(input(\"destination:\"))\n",
    "    weight=int(input(\"weight:\"))\n",
    "    #creating edges\n",
    "    edges.append((node1,node2,{'weight':weight}))\n",
    "edges    "
   ]
  },
  {
   "cell_type": "code",
   "execution_count": null,
   "metadata": {},
   "outputs": [],
   "source": [
    "#adding edges to graph\n",
    "g.add_edges_from(edges)\n",
    "print(g.edges())\n",
    "print(g.nodes())"
   ]
  },
  {
   "cell_type": "code",
   "execution_count": null,
   "metadata": {},
   "outputs": [],
   "source": [
    "node_centre=list(g.degree(g.nodes))\n",
    "sorted_node_centre=sorted(node_centre,key=itemgetter(1),reverse=True)\n",
    "levels=[]\n",
    "levels.append(sorted_node_centre[0][1])\n",
    "for i in range(1,len(sorted_node_centre)):\n",
    "    if(sorted_node_centre[i][1]!= levels[len(levels)-1]):\n",
    "        levels.append(sorted_node_centre[i][1])\n",
    "\n",
    "cols=['red','blue','green','yellow']\n",
    "\n",
    "node_centre\n"
   ]
  },
  {
   "cell_type": "code",
   "execution_count": null,
   "metadata": {},
   "outputs": [],
   "source": [
    "node_colors=[]\n",
    "for i in node_centre:\n",
    "    \n",
    "    \n",
    "    if(len(levels)==1):\n",
    "         node_colors.append(cols[0])\n",
    "     \n",
    "    elif(len(levels)==2):\n",
    "        \n",
    "        if(i[1]==levels[0]):\n",
    "            node_colors.append(cols[0])\n",
    "        else:\n",
    "             node_colors.append(cols[1])\n",
    "    \n",
    "    elif(len(levels)>=3):\n",
    "        \n",
    "        if(i[1]==levels[0]):\n",
    "            node_colors.append(cols[0])\n",
    "        elif (i[1]==levels[1]):\n",
    "             node_colors.append(cols[1])\n",
    "        elif (i[1]==levels[2]):\n",
    "            node_colors.append(cols[2])   \n",
    "        else:\n",
    "             node_colors.append(cols[3])     \n",
    "        \n",
    "    \n",
    "print(levels)    \n",
    "print(node_colors)\n",
    "print(node_centre)\n",
    "sorted_node_centre"
   ]
  },
  {
   "cell_type": "code",
   "execution_count": null,
   "metadata": {},
   "outputs": [],
   "source": [
    "\n",
    "#labels of edges\n",
    "pos=nx.spring_layout(g)\n",
    "nx.draw(g,pos,node_color=node_colors,node_size=900,with_labels=True)\n",
    "labels = nx.get_edge_attributes(g,'weight')\n",
    "nx.draw_networkx_edge_labels(g,pos,edge_labels=labels)\n",
    "plt.show()#degree centrality"
   ]
  },
  {
   "cell_type": "code",
   "execution_count": null,
   "metadata": {},
   "outputs": [],
   "source": [
    "closness=[]\n",
    "close_colors=[]\n",
    "for node in node_centre:\n",
    "    \n",
    "    closness.append((node[0],nx.closeness_centrality(g,node[0],'weight')))\n",
    "    \n",
    "sorted_node_close=sorted(closness,key=itemgetter(1),reverse=True)\n",
    "print(closness)\n",
    "print(sorted_node_close)"
   ]
  },
  {
   "cell_type": "code",
   "execution_count": null,
   "metadata": {},
   "outputs": [],
   "source": [
    "levels=[]\n",
    "levels.append(sorted_node_close[0][1])\n",
    "for i in range(1,len(sorted_node_close)):\n",
    "    if(sorted_node_close[i][1]!= levels[len(levels)-1]):\n",
    "        levels.append(sorted_node_close[i][1])\n",
    "\n",
    "cols=['red','blue','green','yellow']   \n",
    "levels"
   ]
  },
  {
   "cell_type": "code",
   "execution_count": null,
   "metadata": {},
   "outputs": [],
   "source": [
    "node_colors=[]\n",
    "for i in closness:\n",
    "    \n",
    "    \n",
    "    if(len(levels)==1):\n",
    "         node_colors.append(cols[0])\n",
    "     \n",
    "    elif(len(levels)==2):\n",
    "        \n",
    "        if(i[1]==levels[0]):\n",
    "            node_colors.append(cols[0])\n",
    "        else:\n",
    "             node_colors.append(cols[1])\n",
    "    \n",
    "    elif(len(levels)>=3):\n",
    "        \n",
    "        if(i[1]==levels[0]):\n",
    "            node_colors.append(cols[0])\n",
    "        elif (i[1]==levels[1]):\n",
    "             node_colors.append(cols[1])\n",
    "        elif (i[1]==levels[2]):\n",
    "            node_colors.append(cols[2])   \n",
    "        else:\n",
    "             node_colors.append(cols[3])     \n",
    "                \n",
    "                \n",
    "        "
   ]
  },
  {
   "cell_type": "code",
   "execution_count": null,
   "metadata": {},
   "outputs": [],
   "source": [
    "\n",
    "#labels of edges\n",
    "pos=nx.spring_layout(g)\n",
    "nx.draw(g,pos,node_color=node_colors,node_size=900,with_labels=True)\n",
    "labels = nx.get_edge_attributes(g,'weight')\n",
    "nx.draw_networkx_edge_labels(g,pos,edge_labels=labels)\n",
    "plt.show()# closness centrality"
   ]
  },
  {
   "cell_type": "code",
   "execution_count": null,
   "metadata": {},
   "outputs": [],
   "source": []
  },
  {
   "cell_type": "code",
   "execution_count": null,
   "metadata": {},
   "outputs": [],
   "source": []
  }
 ],
 "metadata": {
  "kernelspec": {
   "display_name": "Python 3",
   "language": "python",
   "name": "python3"
  },
  "language_info": {
   "codemirror_mode": {
    "name": "ipython",
    "version": 3
   },
   "file_extension": ".py",
   "mimetype": "text/x-python",
   "name": "python",
   "nbconvert_exporter": "python",
   "pygments_lexer": "ipython3",
   "version": "3.7.3"
  }
 },
 "nbformat": 4,
 "nbformat_minor": 2
}

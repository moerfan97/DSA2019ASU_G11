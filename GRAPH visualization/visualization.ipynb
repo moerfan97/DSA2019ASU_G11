{
 "cells": [
  {
   "cell_type": "code",
   "execution_count": 3,
   "metadata": {},
   "outputs": [],
   "source": [
    "import networkx as nx\n",
    "import matplotlib.pyplot as plt\n",
    "from operator import itemgetter\n",
    "# create graph\n",
    "g=nx.Graph()"
   ]
  },
  {
   "cell_type": "code",
   "execution_count": 4,
   "metadata": {},
   "outputs": [
    {
     "name": "stdout",
     "output_type": "stream",
     "text": [
      "4 5\n"
     ]
    }
   ],
   "source": [
    "# Taking inputs\n",
    "inputs=input().split(' ')\n",
    "number_nodes=int(inputs[0])\n",
    "number_edges=int(inputs[1])\n"
   ]
  },
  {
   "cell_type": "code",
   "execution_count": 5,
   "metadata": {
    "scrolled": true
   },
   "outputs": [
    {
     "name": "stdout",
     "output_type": "stream",
     "text": [
      "source:0\n",
      "destination:2\n",
      "weight:10\n",
      "source:1\n",
      "destination:0\n",
      "weight:1\n",
      "source:0\n",
      "destination:3\n",
      "weight:5\n",
      "source:3\n",
      "destination:1\n",
      "weight:1\n",
      "source:2\n",
      "destination:3\n",
      "weight:4\n"
     ]
    },
    {
     "data": {
      "text/plain": [
       "[(0, 2, {'weight': 10}),\n",
       " (1, 0, {'weight': 1}),\n",
       " (0, 3, {'weight': 5}),\n",
       " (3, 1, {'weight': 1}),\n",
       " (2, 3, {'weight': 4})]"
      ]
     },
     "execution_count": 5,
     "metadata": {},
     "output_type": "execute_result"
    }
   ],
   "source": [
    "# Taking edges\n",
    "edges=[]\n",
    "\n",
    "while len(edges)<number_edges :\n",
    "    node1=int(input(\"source:\"))\n",
    "    node2=int(input(\"destination:\"))\n",
    "    weight=int(input(\"weight:\"))\n",
    "    #creating edges\n",
    "    edges.append((node1,node2,{'weight':weight}))\n",
    "edges    "
   ]
  },
  {
   "cell_type": "code",
   "execution_count": 6,
   "metadata": {},
   "outputs": [
    {
     "name": "stdout",
     "output_type": "stream",
     "text": [
      "[(0, 2), (0, 1), (0, 3), (2, 3), (1, 3)]\n",
      "[0, 2, 1, 3]\n"
     ]
    }
   ],
   "source": [
    "#adding edges to graph\n",
    "g.add_edges_from(edges)\n",
    "print(g.edges())\n",
    "print(g.nodes())"
   ]
  },
  {
   "cell_type": "code",
   "execution_count": 7,
   "metadata": {},
   "outputs": [
    {
     "data": {
      "text/plain": [
       "[(0, 3), (2, 2), (1, 2), (3, 3)]"
      ]
     },
     "execution_count": 7,
     "metadata": {},
     "output_type": "execute_result"
    }
   ],
   "source": [
    "node_centre=list(g.degree(g.nodes))\n",
    "sorted_node_centre=sorted(node_centre,key=itemgetter(1),reverse=True)\n",
    "levels=[]\n",
    "levels.append(sorted_node_centre[0][1])\n",
    "for i in range(1,len(sorted_node_centre)):\n",
    "    if(sorted_node_centre[i][1]!= levels[len(levels)-1]):\n",
    "        levels.append(sorted_node_centre[i][1])\n",
    "\n",
    "cols=['red','blue','green','yellow']\n",
    "\n",
    "node_centre\n"
   ]
  },
  {
   "cell_type": "code",
   "execution_count": 8,
   "metadata": {},
   "outputs": [
    {
     "name": "stdout",
     "output_type": "stream",
     "text": [
      "[3, 2]\n",
      "['red', 'blue', 'blue', 'red']\n",
      "[(0, 3), (2, 2), (1, 2), (3, 3)]\n"
     ]
    },
    {
     "data": {
      "text/plain": [
       "[(0, 3), (3, 3), (2, 2), (1, 2)]"
      ]
     },
     "execution_count": 8,
     "metadata": {},
     "output_type": "execute_result"
    }
   ],
   "source": [
    "node_colors=[]\n",
    "for i in node_centre:\n",
    "    \n",
    "    \n",
    "    if(len(levels)==1):\n",
    "         node_colors.append(cols[0])\n",
    "     \n",
    "    elif(len(levels)==2):\n",
    "        \n",
    "        if(i[1]==levels[0]):\n",
    "            node_colors.append(cols[0])\n",
    "        else:\n",
    "             node_colors.append(cols[1])\n",
    "    \n",
    "    elif(len(levels)>=3):\n",
    "        \n",
    "        if(i[1]==levels[0]):\n",
    "            node_colors.append(cols[0])\n",
    "        elif (i[1]==levels[1]):\n",
    "             node_colors.append(cols[1])\n",
    "        elif (i[1]==levels[2]):\n",
    "            node_colors.append(cols[2])   \n",
    "        else:\n",
    "             node_colors.append(cols[3])     \n",
    "        \n",
    "    \n",
    "print(levels)    \n",
    "print(node_colors)\n",
    "print(node_centre)\n",
    "sorted_node_centre"
   ]
  },
  {
   "cell_type": "code",
   "execution_count": 9,
   "metadata": {},
   "outputs": [
    {
     "name": "stderr",
     "output_type": "stream",
     "text": [
      "C:\\Users\\Omar\\Anaconda3\\lib\\site-packages\\networkx\\drawing\\nx_pylab.py:611: MatplotlibDeprecationWarning: isinstance(..., numbers.Number)\n",
      "  if cb.is_numlike(alpha):\n"
     ]
    },
    {
     "data": {
      "image/png": "[encoded data removed]",
      "text/plain": [
       "<Figure size 432x288 with 1 Axes>"
      ]
     },
     "metadata": {},
     "output_type": "display_data"
    }
   ],
   "source": [
    "\n",
    "#labels of edges\n",
    "pos=nx.spring_layout(g)\n",
    "nx.draw(g,pos,node_color=node_colors,node_size=900,with_labels=True)\n",
    "labels = nx.get_edge_attributes(g,'weight')\n",
    "nx.draw_networkx_edge_labels(g,pos,edge_labels=labels)\n",
    "plt.show()#degree centrality"
   ]
  },
  {
   "cell_type": "code",
   "execution_count": 10,
   "metadata": {},
   "outputs": [
    {
     "name": "stdout",
     "output_type": "stream",
     "text": [
      "[(0, 0.3333333333333333), (2, 0.2), (1, 0.42857142857142855), (3, 0.42857142857142855)]\n",
      "[(1, 0.42857142857142855), (3, 0.42857142857142855), (0, 0.3333333333333333), (2, 0.2)]\n"
     ]
    }
   ],
   "source": [
    "closness=[]\n",
    "close_colors=[]\n",
    "for node in node_centre:\n",
    "    \n",
    "    closness.append((node[0],nx.closeness_centrality(g,node[0],'weight')))\n",
    "    \n",
    "sorted_node_close=sorted(closness,key=itemgetter(1),reverse=True)\n",
    "print(closness)\n",
    "print(sorted_node_close)"
   ]
  },
  {
   "cell_type": "code",
   "execution_count": 11,
   "metadata": {},
   "outputs": [
    {
     "data": {
      "text/plain": [
       "[0.42857142857142855, 0.3333333333333333, 0.2]"
      ]
     },
     "execution_count": 11,
     "metadata": {},
     "output_type": "execute_result"
    }
   ],
   "source": [
    "levels=[]\n",
    "levels.append(sorted_node_close[0][1])\n",
    "for i in range(1,len(sorted_node_close)):\n",
    "    if(sorted_node_close[i][1]!= levels[len(levels)-1]):\n",
    "        levels.append(sorted_node_close[i][1])\n",
    "\n",
    "cols=['red','blue','green','yellow']   \n",
    "levels"
   ]
  },
  {
   "cell_type": "code",
   "execution_count": 12,
   "metadata": {},
   "outputs": [],
   "source": [
    "node_colors=[]\n",
    "for i in closness:\n",
    "    \n",
    "    \n",
    "    if(len(levels)==1):\n",
    "         node_colors.append(cols[0])\n",
    "     \n",
    "    elif(len(levels)==2):\n",
    "        \n",
    "        if(i[1]==levels[0]):\n",
    "            node_colors.append(cols[0])\n",
    "        else:\n",
    "             node_colors.append(cols[1])\n",
    "    \n",
    "    elif(len(levels)>=3):\n",
    "        \n",
    "        if(i[1]==levels[0]):\n",
    "            node_colors.append(cols[0])\n",
    "        elif (i[1]==levels[1]):\n",
    "             node_colors.append(cols[1])\n",
    "        elif (i[1]==levels[2]):\n",
    "            node_colors.append(cols[2])   \n",
    "        else:\n",
    "             node_colors.append(cols[3])     \n",
    "                \n",
    "                \n",
    "        "
   ]
  },
  {
   "cell_type": "code",
   "execution_count": 13,
   "metadata": {},
   "outputs": [
    {
     "data": {
      "image/png": "[encoded data removed]",
      "text/plain": [
       "<Figure size 432x288 with 1 Axes>"
      ]
     },
     "metadata": {},
     "output_type": "display_data"
    }
   ],
   "source": [
    "\n",
    "#labels of edges\n",
    "pos=nx.spring_layout(g)\n",
    "nx.draw(g,pos,node_color=node_colors,node_size=900,with_labels=True)\n",
    "labels = nx.get_edge_attributes(g,'weight')\n",
    "nx.draw_networkx_edge_labels(g,pos,edge_labels=labels)\n",
    "plt.show()# closness centrality"
   ]
  },
  {
   "cell_type": "code",
   "execution_count": null,
   "metadata": {},
   "outputs": [],
   "source": []
  },
  {
   "cell_type": "code",
   "execution_count": null,
   "metadata": {},
   "outputs": [],
   "source": []
  }
 ],
 "metadata": {
  "kernelspec": {
   "display_name": "Python 3",
   "language": "python",
   "name": "python3"
  },
  "language_info": {
   "codemirror_mode": {
    "name": "ipython",
    "version": 3
   },
   "file_extension": ".py",
   "mimetype": "text/x-python",
   "name": "python",
   "nbconvert_exporter": "python",
   "pygments_lexer": "ipython3",
   "version": "3.7.3"
  }
 },
 "nbformat": 4,
 "nbformat_minor": 2
}

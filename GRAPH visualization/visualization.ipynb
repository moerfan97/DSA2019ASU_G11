{
 "cells": [
  {
   "cell_type": "code",
   "execution_count": 119,
   "metadata": {},
   "outputs": [],
   "source": [
    "import networkx as nx\n",
    "import matplotlib.pyplot as plt\n",
    "from operator import itemgetter\n",
    "import os\n",
    "import subprocess\n"
   ]
  },
  {
   "cell_type": "code",
   "execution_count": 77,
   "metadata": {},
   "outputs": [
    {
     "data": {
      "text/plain": [
       "'\\nsubprocess.call(\"a.exe\",shell=True)\\nsubprocess.run(\"a.exe\",shell=True)\\n'"
      ]
     },
     "execution_count": 77,
     "metadata": {},
     "output_type": "execute_result"
    }
   ],
   "source": [
    "# create graph\n",
    "g=nx.Graph()\n",
    "\"\"\"\n",
    "subprocess.call(\"a.exe\",shell=True)\n",
    "subprocess.run(\"a.exe\",shell=True)\n",
    "\"\"\""
   ]
  },
  {
   "cell_type": "code",
   "execution_count": 78,
   "metadata": {},
   "outputs": [
    {
     "data": {
      "text/plain": [
       "'\\n# Taking inputs\\ninputs=input(\" no.of nodes &edges\").split(\\' \\')\\nnumber_nodes=int(inputs[0])\\nnumber_edges=int(inputs[1])\\n'"
      ]
     },
     "execution_count": 78,
     "metadata": {},
     "output_type": "execute_result"
    }
   ],
   "source": [
    "\n",
    "\"\"\"\n",
    "# Taking inputs\n",
    "inputs=input(\" no.of nodes &edges\").split(' ')\n",
    "number_nodes=int(inputs[0])\n",
    "number_edges=int(inputs[1])\n",
    "\"\"\""
   ]
  },
  {
   "cell_type": "code",
   "execution_count": 79,
   "metadata": {},
   "outputs": [],
   "source": [
    "# Taking inputs from file\n",
    "\n",
    "file=open(\"input.txt\",\"r\")\n",
    "lines=file.readlines()\n",
    "inputs =lines[0].split(' ')\n",
    "number_nodes=int(inputs[0])\n",
    "number_edges=int(inputs[1])"
   ]
  },
  {
   "cell_type": "code",
   "execution_count": 80,
   "metadata": {
    "scrolled": true
   },
   "outputs": [
    {
     "data": {
      "text/plain": [
       "'\\n# Taking edges\\nedges=[]\\n\\nwhile len(edges)<number_edges :\\n    node1=int(input(\"source:\"))\\n    node2=int(input(\"destination:\"))\\n    weight=int(input(\"weight:\"))\\n    #creating edges\\n    edges.append((node1,node2,{\\'weight\\':weight}))\\nedges    \\n'"
      ]
     },
     "execution_count": 80,
     "metadata": {},
     "output_type": "execute_result"
    }
   ],
   "source": [
    "\n",
    "\"\"\"\n",
    "# Taking edges\n",
    "edges=[]\n",
    "\n",
    "while len(edges)<number_edges :\n",
    "    node1=int(input(\"source:\"))\n",
    "    node2=int(input(\"destination:\"))\n",
    "    weight=int(input(\"weight:\"))\n",
    "    #creating edges\n",
    "    edges.append((node1,node2,{'weight':weight}))\n",
    "edges    \n",
    "\"\"\""
   ]
  },
  {
   "cell_type": "code",
   "execution_count": 81,
   "metadata": {},
   "outputs": [
    {
     "data": {
      "text/plain": [
       "[(0, 1, {'weight': 1}),\n",
       " (0, 2, {'weight': 1}),\n",
       " (1, 3, {'weight': 1}),\n",
       " (2, 3, {'weight': 1}),\n",
       " (3, 4, {'weight': 1}),\n",
       " (2, 4, {'weight': 3})]"
      ]
     },
     "execution_count": 81,
     "metadata": {},
     "output_type": "execute_result"
    }
   ],
   "source": [
    "#Taking edges from file\n",
    "edges=[]\n",
    "\n",
    "for i in range(1,len(lines)):\n",
    "\n",
    "    inputs=lines[i].split(' ')\n",
    "    inputs\n",
    "    node1=int(inputs[0])\n",
    "    node2=int(inputs[1])\n",
    "    weight=int(inputs[2])\n",
    "    #creating edges\n",
    "    edges.append((node1,node2,{'weight':weight}))\n",
    "edges"
   ]
  },
  {
   "cell_type": "code",
   "execution_count": 82,
   "metadata": {},
   "outputs": [
    {
     "name": "stdout",
     "output_type": "stream",
     "text": [
      "[(0, 1), (0, 2), (1, 3), (2, 3), (2, 4), (3, 4)]\n",
      "[0, 1, 2, 3, 4]\n"
     ]
    }
   ],
   "source": [
    "#adding edges to graph\n",
    "g.add_edges_from(edges)\n",
    "print(g.edges())\n",
    "print(g.nodes())"
   ]
  },
  {
   "cell_type": "code",
   "execution_count": 83,
   "metadata": {},
   "outputs": [
    {
     "data": {
      "text/plain": [
       "[(0, 2), (1, 2), (2, 3), (3, 3), (4, 2)]"
      ]
     },
     "execution_count": 83,
     "metadata": {},
     "output_type": "execute_result"
    }
   ],
   "source": [
    "node_centre=list(g.degree(g.nodes))\n",
    "sorted_node_centre=sorted(node_centre,key=itemgetter(1),reverse=True)\n",
    "levels=[]\n",
    "levels.append(sorted_node_centre[0][1])\n",
    "for i in range(1,len(sorted_node_centre)):\n",
    "    if(sorted_node_centre[i][1]!= levels[len(levels)-1]):\n",
    "        levels.append(sorted_node_centre[i][1])\n",
    "\n",
    "cols=['red','blue','green','yellow']\n",
    "\n",
    "node_centre\n"
   ]
  },
  {
   "cell_type": "code",
   "execution_count": 84,
   "metadata": {},
   "outputs": [
    {
     "name": "stdout",
     "output_type": "stream",
     "text": [
      "[3, 2]\n",
      "['blue', 'blue', 'red', 'red', 'blue']\n",
      "[(0, 2), (1, 2), (2, 3), (3, 3), (4, 2)]\n"
     ]
    },
    {
     "data": {
      "text/plain": [
       "[(2, 3), (3, 3), (0, 2), (1, 2), (4, 2)]"
      ]
     },
     "execution_count": 84,
     "metadata": {},
     "output_type": "execute_result"
    }
   ],
   "source": [
    "node_colors=[]\n",
    "for i in node_centre:\n",
    "    \n",
    "    \n",
    "    if(len(levels)==1):\n",
    "         node_colors.append(cols[0])\n",
    "     \n",
    "    elif(len(levels)==2):\n",
    "        \n",
    "        if(i[1]==levels[0]):\n",
    "            node_colors.append(cols[0])\n",
    "        else:\n",
    "             node_colors.append(cols[1])\n",
    "    \n",
    "    elif(len(levels)>=3):\n",
    "        \n",
    "        if(i[1]==levels[0]):\n",
    "            node_colors.append(cols[0])\n",
    "        elif (i[1]==levels[1]):\n",
    "             node_colors.append(cols[1])\n",
    "        elif (i[1]==levels[2]):\n",
    "            node_colors.append(cols[2])   \n",
    "        else:\n",
    "             node_colors.append(cols[3])     \n",
    "        \n",
    "    \n",
    "print(levels)    \n",
    "print(node_colors)\n",
    "print(node_centre)\n",
    "sorted_node_centre"
   ]
  },
  {
   "cell_type": "code",
   "execution_count": 85,
   "metadata": {},
   "outputs": [
    {
     "name": "stderr",
     "output_type": "stream",
     "text": [
      "C:\\Users\\Omar\\Anaconda3\\lib\\site-packages\\networkx\\drawing\\nx_pylab.py:611: MatplotlibDeprecationWarning: isinstance(..., numbers.Number)\n",
      "  if cb.is_numlike(alpha):\n"
     ]
    },
    {
     "data": {
      "image/png": "[encoded data removed]",
      "text/plain": [
       "<Figure size 432x288 with 1 Axes>"
      ]
     },
     "metadata": {},
     "output_type": "display_data"
    }
   ],
   "source": [
    "\n",
    "#labels of edges\n",
    "pos=nx.spring_layout(g)\n",
    "nx.draw(g,pos,node_color=node_colors,node_size=900,with_labels=True)\n",
    "labels = nx.get_edge_attributes(g,'weight')\n",
    "nx.draw_networkx_edge_labels(g,pos,edge_labels=labels)\n",
    "plt.savefig(\"degree centrality\")\n",
    "plt.show()#degree centrality\n"
   ]
  },
  {
   "cell_type": "code",
   "execution_count": 86,
   "metadata": {},
   "outputs": [
    {
     "name": "stdout",
     "output_type": "stream",
     "text": [
      "[(0, 0.5714285714285714), (1, 0.6666666666666666), (2, 0.6666666666666666), (3, 0.8), (4, 0.5)]\n",
      "[(3, 0.8), (1, 0.6666666666666666), (2, 0.6666666666666666), (0, 0.5714285714285714), (4, 0.5)]\n"
     ]
    }
   ],
   "source": [
    "closness=[]\n",
    "close_colors=[]\n",
    "for node in node_centre:\n",
    "    \n",
    "    closness.append((node[0],nx.closeness_centrality(g,node[0],'weight')))\n",
    "    \n",
    "sorted_node_close=sorted(closness,key=itemgetter(1),reverse=True)\n",
    "print(closness)\n",
    "print(sorted_node_close)"
   ]
  },
  {
   "cell_type": "code",
   "execution_count": 87,
   "metadata": {},
   "outputs": [
    {
     "data": {
      "text/plain": [
       "[0.8, 0.6666666666666666, 0.5714285714285714, 0.5]"
      ]
     },
     "execution_count": 87,
     "metadata": {},
     "output_type": "execute_result"
    }
   ],
   "source": [
    "levels=[]\n",
    "levels.append(sorted_node_close[0][1])\n",
    "for i in range(1,len(sorted_node_close)):\n",
    "    if(sorted_node_close[i][1]!= levels[len(levels)-1]):\n",
    "        levels.append(sorted_node_close[i][1])\n",
    "\n",
    "cols=['red','blue','green','yellow']   \n",
    "levels"
   ]
  },
  {
   "cell_type": "code",
   "execution_count": 88,
   "metadata": {},
   "outputs": [],
   "source": [
    "node_colors=[]\n",
    "for i in closness:\n",
    "    \n",
    "    \n",
    "    if(len(levels)==1):\n",
    "         node_colors.append(cols[0])\n",
    "     \n",
    "    elif(len(levels)==2):\n",
    "        \n",
    "        if(i[1]==levels[0]):\n",
    "            node_colors.append(cols[0])\n",
    "        else:\n",
    "             node_colors.append(cols[1])\n",
    "    \n",
    "    elif(len(levels)>=3):\n",
    "        \n",
    "        if(i[1]==levels[0]):\n",
    "            node_colors.append(cols[0])\n",
    "        elif (i[1]==levels[1]):\n",
    "             node_colors.append(cols[1])\n",
    "        elif (i[1]==levels[2]):\n",
    "            node_colors.append(cols[2])   \n",
    "        else:\n",
    "             node_colors.append(cols[3])     \n",
    "                \n",
    "                \n",
    "        "
   ]
  },
  {
   "cell_type": "code",
   "execution_count": 89,
   "metadata": {},
   "outputs": [
    {
     "data": {
      "image/png": "[encoded data removed]",
      "text/plain": [
       "<Figure size 432x288 with 1 Axes>"
      ]
     },
     "metadata": {},
     "output_type": "display_data"
    }
   ],
   "source": [
    "\n",
    "#labels of edges\n",
    "pos=nx.spring_layout(g)\n",
    "nx.draw(g,pos,node_color=node_colors,node_size=900,with_labels=True)\n",
    "labels = nx.get_edge_attributes(g,'weight')\n",
    "nx.draw_networkx_edge_labels(g,pos,edge_labels=labels)\n",
    "plt.savefig(\"closeness centrality\")\n",
    "plt.show()# closness centrality"
   ]
  },
  {
   "cell_type": "code",
   "execution_count": 108,
   "metadata": {},
   "outputs": [
    {
     "data": {
      "text/plain": [
       "{0: 0.5, 1: 1.0, 2: 1.0, 3: 3.5, 4: 0.0}"
      ]
     },
     "execution_count": 108,
     "metadata": {},
     "output_type": "execute_result"
    }
   ],
   "source": [
    "bet=nx.betweenness_centrality(g,None,False,'weight')\n",
    "bet"
   ]
  },
  {
   "cell_type": "code",
   "execution_count": 172,
   "metadata": {},
   "outputs": [
    {
     "data": {
      "text/plain": [
       "[3.5, 1.0, 0.5, 0.0]"
      ]
     },
     "execution_count": 172,
     "metadata": {},
     "output_type": "execute_result"
    }
   ],
   "source": [
    "\n",
    "levels=[]\n",
    "for i in range(len(bet)):\n",
    "    if(~(bet.get(i)in levels)):\n",
    "        levels.append(bet.get(i))\n",
    "        \n",
    "\n",
    "levels=list(set(levels))\n",
    "levels=sorted(levels)\n",
    "levels.reverse()\n",
    "levels"
   ]
  },
  {
   "cell_type": "code",
   "execution_count": 173,
   "metadata": {},
   "outputs": [
    {
     "data": {
      "text/plain": [
       "['green', 'blue', 'blue', 'red', 'yellow']"
      ]
     },
     "execution_count": 173,
     "metadata": {},
     "output_type": "execute_result"
    }
   ],
   "source": [
    "node_colors=[]\n",
    "cols=['red','blue','green','yellow']   \n",
    "\n",
    "for i in bet.items():\n",
    "    \n",
    "    \n",
    "    if(len(levels)==1):\n",
    "         node_colors.append(cols[0])\n",
    "     \n",
    "    elif(len(levels)==2):\n",
    "        \n",
    "        if(i[1]==levels[0]):\n",
    "            node_colors.append(cols[0])\n",
    "        else:\n",
    "             node_colors.append(cols[1])\n",
    "    \n",
    "    elif(len(levels)>=3):\n",
    "        \n",
    "        if(i[1]==levels[0]):\n",
    "            node_colors.append(cols[0])\n",
    "        elif (i[1]==levels[1]):\n",
    "             node_colors.append(cols[1])\n",
    "        elif (i[1]==levels[2]):\n",
    "            node_colors.append(cols[2])   \n",
    "        else:\n",
    "             node_colors.append(cols[3])     \n",
    "                \n",
    "                \n",
    "        \n",
    "node_colors"
   ]
  },
  {
   "cell_type": "code",
   "execution_count": 174,
   "metadata": {},
   "outputs": [
    {
     "data": {
      "image/png": "[encoded data removed]",
      "text/plain": [
       "<Figure size 432x288 with 1 Axes>"
      ]
     },
     "metadata": {},
     "output_type": "display_data"
    }
   ],
   "source": [
    "\n",
    "#labels of edges\n",
    "pos=nx.spring_layout(g)\n",
    "nx.draw(g,pos,node_color=node_colors,node_size=900,with_labels=True)\n",
    "labels = nx.get_edge_attributes(g,'weight')\n",
    "nx.draw_networkx_edge_labels(g,pos,edge_labels=labels)\n",
    "plt.savefig(\"betweeness centrality\")\n",
    "plt.show()# betweeness centrality"
   ]
  },
  {
   "cell_type": "code",
   "execution_count": 90,
   "metadata": {},
   "outputs": [
    {
     "data": {
      "text/plain": [
       "'\\n#open pictures\\nos.startfile(\"closeness centrality.png\")\\nos.startfile(\"degree centrality.png\")\\n\\n'"
      ]
     },
     "execution_count": 90,
     "metadata": {},
     "output_type": "execute_result"
    }
   ],
   "source": [
    "\n",
    "\"\"\"\n",
    "#open pictures\n",
    "os.startfile(\"closeness centrality.png\")\n",
    "os.startfile(\"degree centrality.png\")\n",
    "\n",
    "\"\"\""
   ]
  },
  {
   "cell_type": "code",
   "execution_count": 91,
   "metadata": {},
   "outputs": [],
   "source": [
    "#Run c++ app\n",
    "#os.startfile(\"a.exe\")"
   ]
  }
 ],
 "metadata": {
  "kernelspec": {
   "display_name": "Python 3",
   "language": "python",
   "name": "python3"
  },
  "language_info": {
   "codemirror_mode": {
    "name": "ipython",
    "version": 3
   },
   "file_extension": ".py",
   "mimetype": "text/x-python",
   "name": "python",
   "nbconvert_exporter": "python",
   "pygments_lexer": "ipython3",
   "version": "3.7.3"
  }
 },
 "nbformat": 4,
 "nbformat_minor": 2
}
